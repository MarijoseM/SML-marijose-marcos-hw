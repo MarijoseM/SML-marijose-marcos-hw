{
 "cells": [
  {
   "cell_type": "code",
   "execution_count": 1,
   "id": "66f60cfb",
   "metadata": {},
   "outputs": [],
   "source": [
    "#HOMEWORK SESSION 2"
   ]
  },
  {
   "cell_type": "code",
   "execution_count": 2,
   "id": "b328cd3d",
   "metadata": {},
   "outputs": [],
   "source": [
    "import pandas as pd\n",
    "import numpy as np"
   ]
  },
  {
   "cell_type": "code",
   "execution_count": 3,
   "id": "9444c4cd",
   "metadata": {},
   "outputs": [],
   "source": [
    "#Chapter 2 Exercise 2\n",
    "#Scenario a is a regression We are interested in inference. n=500 and p=3\n",
    "#Scenario b is a classification We are interested in prediction. n=20 and p=13\n",
    "#Scenario c is a regression. We are interested in prediction. n=52 and p=3"
   ]
  },
  {
   "cell_type": "code",
   "execution_count": 4,
   "id": "fc987725",
   "metadata": {},
   "outputs": [],
   "source": [
    "#Chapter 2 Exercise 10"
   ]
  },
  {
   "cell_type": "code",
   "execution_count": 5,
   "id": "939fab60",
   "metadata": {},
   "outputs": [
    {
     "ename": "NameError",
     "evalue": "name 'library' is not defined",
     "output_type": "error",
     "traceback": [
      "\u001b[1;31m---------------------------------------------------------------------------\u001b[0m",
      "\u001b[1;31mNameError\u001b[0m                                 Traceback (most recent call last)",
      "\u001b[1;32mC:\\Users\\MMARCO~1\\AppData\\Local\\Temp/ipykernel_21004/2380758442.py\u001b[0m in \u001b[0;36m<module>\u001b[1;34m\u001b[0m\n\u001b[1;32m----> 1\u001b[1;33m \u001b[0mlibrary\u001b[0m\u001b[1;33m(\u001b[0m\u001b[0mMASS\u001b[0m\u001b[1;33m)\u001b[0m\u001b[1;33m\u001b[0m\u001b[1;33m\u001b[0m\u001b[0m\n\u001b[0m",
      "\u001b[1;31mNameError\u001b[0m: name 'library' is not defined"
     ]
    }
   ],
   "source": [
    "library(MASS)"
   ]
  },
  {
   "cell_type": "code",
   "execution_count": 24,
   "id": "b071e046",
   "metadata": {},
   "outputs": [
    {
     "ename": "NameError",
     "evalue": "name 'Boston' is not defined",
     "output_type": "error",
     "traceback": [
      "\u001b[1;31m---------------------------------------------------------------------------\u001b[0m",
      "\u001b[1;31mNameError\u001b[0m                                 Traceback (most recent call last)",
      "\u001b[1;32mC:\\Users\\MMARCO~1\\AppData\\Local\\Temp/ipykernel_11004/2085574042.py\u001b[0m in \u001b[0;36m<module>\u001b[1;34m\u001b[0m\n\u001b[1;32m----> 1\u001b[1;33m \u001b[0mBoston\u001b[0m\u001b[1;33m\u001b[0m\u001b[1;33m\u001b[0m\u001b[0m\n\u001b[0m",
      "\u001b[1;31mNameError\u001b[0m: name 'Boston' is not defined"
     ]
    }
   ],
   "source": [
    "Boston"
   ]
  },
  {
   "cell_type": "code",
   "execution_count": 13,
   "id": "52a3e16b",
   "metadata": {},
   "outputs": [],
   "source": [
    "#Boston data frame has 506 rows and 14 columns\n"
   ]
  },
  {
   "cell_type": "code",
   "execution_count": 14,
   "id": "9b9a09e0",
   "metadata": {},
   "outputs": [
    {
     "ename": "NameError",
     "evalue": "name 'pairs' is not defined",
     "output_type": "error",
     "traceback": [
      "\u001b[1;31m---------------------------------------------------------------------------\u001b[0m",
      "\u001b[1;31mNameError\u001b[0m                                 Traceback (most recent call last)",
      "\u001b[1;32mC:\\Users\\MMARCO~1\\AppData\\Local\\Temp/ipykernel_11004/680174284.py\u001b[0m in \u001b[0;36m<module>\u001b[1;34m\u001b[0m\n\u001b[0;32m      1\u001b[0m \u001b[1;31m#b\u001b[0m\u001b[1;33m\u001b[0m\u001b[1;33m\u001b[0m\u001b[1;33m\u001b[0m\u001b[0m\n\u001b[1;32m----> 2\u001b[1;33m \u001b[0mpairs\u001b[0m\u001b[1;33m(\u001b[0m\u001b[0mBoston\u001b[0m\u001b[1;33m)\u001b[0m\u001b[1;33m\u001b[0m\u001b[1;33m\u001b[0m\u001b[0m\n\u001b[0m",
      "\u001b[1;31mNameError\u001b[0m: name 'pairs' is not defined"
     ]
    }
   ],
   "source": [
    "#b\n",
    "pairs(Boston)"
   ]
  },
  {
   "cell_type": "code",
   "execution_count": 15,
   "id": "75625360",
   "metadata": {},
   "outputs": [],
   "source": [
    "#Not all variables are correlated"
   ]
  },
  {
   "cell_type": "code",
   "execution_count": 16,
   "id": "dddde9fb",
   "metadata": {},
   "outputs": [
    {
     "ename": "NameError",
     "evalue": "name 'cor' is not defined",
     "output_type": "error",
     "traceback": [
      "\u001b[1;31m---------------------------------------------------------------------------\u001b[0m",
      "\u001b[1;31mNameError\u001b[0m                                 Traceback (most recent call last)",
      "\u001b[1;32mC:\\Users\\MMARCO~1\\AppData\\Local\\Temp/ipykernel_11004/2726310597.py\u001b[0m in \u001b[0;36m<module>\u001b[1;34m\u001b[0m\n\u001b[0;32m      1\u001b[0m \u001b[1;31m#c\u001b[0m\u001b[1;33m\u001b[0m\u001b[1;33m\u001b[0m\u001b[1;33m\u001b[0m\u001b[0m\n\u001b[1;32m----> 2\u001b[1;33m \u001b[0mcor\u001b[0m\u001b[1;33m(\u001b[0m\u001b[0mBoston\u001b[0m\u001b[1;33m)\u001b[0m\u001b[1;33m\u001b[0m\u001b[1;33m\u001b[0m\u001b[0m\n\u001b[0m",
      "\u001b[1;31mNameError\u001b[0m: name 'cor' is not defined"
     ]
    }
   ],
   "source": [
    "#c\n",
    "cor(Boston)"
   ]
  },
  {
   "cell_type": "code",
   "execution_count": 17,
   "id": "0c1d1d57",
   "metadata": {},
   "outputs": [],
   "source": [
    "#predictors associated with per capita crime rate are rad and tax."
   ]
  },
  {
   "cell_type": "code",
   "execution_count": 18,
   "id": "cf3df3d7",
   "metadata": {},
   "outputs": [
    {
     "ename": "SyntaxError",
     "evalue": "invalid syntax (Temp/ipykernel_11004/3384756805.py, line 2)",
     "output_type": "error",
     "traceback": [
      "\u001b[1;36m  File \u001b[1;32m\"C:\\Users\\MMARCO~1\\AppData\\Local\\Temp/ipykernel_11004/3384756805.py\"\u001b[1;36m, line \u001b[1;32m2\u001b[0m\n\u001b[1;33m    hist(Boston$crim, breaks=10) #10 of the suburbs have particularly high crime rates\u001b[0m\n\u001b[1;37m               ^\u001b[0m\n\u001b[1;31mSyntaxError\u001b[0m\u001b[1;31m:\u001b[0m invalid syntax\n"
     ]
    }
   ],
   "source": [
    "#d\n",
    "hist(Boston$crim, breaks=10) #10 of the suburbs have particularly high crime rates\n",
    "hist(Boston$tax, breaks=10) #around 150 of the suburbs have particularly high tax rates\n",
    "hist(Boston$ptratio, breaks=10) #1 city in the suburbs has a particularly high tax rate"
   ]
  },
  {
   "cell_type": "code",
   "execution_count": 19,
   "id": "acd30d81",
   "metadata": {},
   "outputs": [
    {
     "ename": "SyntaxError",
     "evalue": "invalid syntax (Temp/ipykernel_11004/994726826.py, line 2)",
     "output_type": "error",
     "traceback": [
      "\u001b[1;36m  File \u001b[1;32m\"C:\\Users\\MMARCO~1\\AppData\\Local\\Temp/ipykernel_11004/994726826.py\"\u001b[1;36m, line \u001b[1;32m2\u001b[0m\n\u001b[1;33m    sum(Boston$chas == 1) #35 of the suburbs bound the Charles river\u001b[0m\n\u001b[1;37m              ^\u001b[0m\n\u001b[1;31mSyntaxError\u001b[0m\u001b[1;31m:\u001b[0m invalid syntax\n"
     ]
    }
   ],
   "source": [
    "# e\n",
    "sum(Boston$chas == 1) #35 of the suburbs bound the Charles river\n"
   ]
  },
  {
   "cell_type": "code",
   "execution_count": null,
   "id": "42fca5e9",
   "metadata": {},
   "outputs": [],
   "source": [
    "#f\n",
    "median(Boston$ptratio) #the median is 19.05\n"
   ]
  },
  {
   "cell_type": "code",
   "execution_count": null,
   "id": "cf38b99c",
   "metadata": {},
   "outputs": [],
   "source": [
    "# g\n",
    "lowest_medv <- Boston[order(Boston$medv),]\n",
    "lowest_medv[1,]\n",
    "#the suburb that has the lowest median value"
   ]
  },
  {
   "cell_type": "code",
   "execution_count": null,
   "id": "3f906bd5",
   "metadata": {},
   "outputs": [],
   "source": [
    "#h\n",
    "sum(Boston$rm>7) #64 of the suburbs average more than 7\n",
    "sum(Boston$rm>8) #13 of the suburbs average more than 8"
   ]
  },
  {
   "cell_type": "code",
   "execution_count": null,
   "id": "d771ac30",
   "metadata": {},
   "outputs": [],
   "source": [
    "#Chapter 3 Exercise 3\n",
    "\n",
    "#a\n",
    "# y = 50 + 20GPA + 0.07IQ + 35Gender + 0.01 GPA IQ - 10 GPA Gender\n",
    "# y(female) = 50 + 20GPA + 0.07IQ + 35 + 0.01 GPA IQ - 10GPA = 85 + 10GPA +0.07IQ + 0.01 GPA IQ\n",
    "# y(male) = 50 + 20GPA + 0.07IQ + 0.01 GPA IQ\n",
    "# y(female) - y(male) = 35 - 10GPA  \n",
    "# part iii is correct because the higher the GPA,the more subtracting from the difference between how much females and males earn. Which means if the GPA is very high, females\n",
    "# will earn less than males.\n",
    "\n",
    "\n",
    "#b\n",
    "y_female = (85 + 10*4 + 0.07*110 + 0.01*4*110) * 1000 \n",
    "y_female\n",
    "\n",
    "#c\n",
    "#False. Samm coeficient doesn't reflect the effect of the interaction between them. "
   ]
  },
  {
   "cell_type": "code",
   "execution_count": 7,
   "id": "79fdb7cd",
   "metadata": {},
   "outputs": [
    {
     "ename": "NameError",
     "evalue": "name 'library' is not defined",
     "output_type": "error",
     "traceback": [
      "\u001b[1;31m---------------------------------------------------------------------------\u001b[0m",
      "\u001b[1;31mNameError\u001b[0m                                 Traceback (most recent call last)",
      "\u001b[1;32mC:\\Users\\MMARCO~1\\AppData\\Local\\Temp/ipykernel_11004/1229220957.py\u001b[0m in \u001b[0;36m<module>\u001b[1;34m\u001b[0m\n\u001b[0;32m      1\u001b[0m \u001b[1;31m#Chapter 3 Exercise 10\u001b[0m\u001b[1;33m\u001b[0m\u001b[1;33m\u001b[0m\u001b[1;33m\u001b[0m\u001b[0m\n\u001b[0;32m      2\u001b[0m \u001b[1;33m\u001b[0m\u001b[0m\n\u001b[1;32m----> 3\u001b[1;33m \u001b[0mlibrary\u001b[0m\u001b[1;33m(\u001b[0m\u001b[0mISLR\u001b[0m\u001b[1;33m)\u001b[0m\u001b[1;33m\u001b[0m\u001b[1;33m\u001b[0m\u001b[0m\n\u001b[0m\u001b[0;32m      4\u001b[0m \u001b[0mhead\u001b[0m\u001b[1;33m(\u001b[0m\u001b[0mCarseats\u001b[0m\u001b[1;33m)\u001b[0m\u001b[1;33m\u001b[0m\u001b[1;33m\u001b[0m\u001b[0m\n",
      "\u001b[1;31mNameError\u001b[0m: name 'library' is not defined"
     ]
    }
   ],
   "source": [
    "#Chapter 3 Exercise 10\n",
    "\n",
    "library(ISLR)\n",
    "head(Carseats)"
   ]
  },
  {
   "cell_type": "code",
   "execution_count": null,
   "id": "efab1325",
   "metadata": {},
   "outputs": [],
   "source": [
    "#a\n",
    "fit <- lm(Sales ~ Price + Urban + US, data = Carseats)\n",
    "summary(fit)"
   ]
  },
  {
   "cell_type": "code",
   "execution_count": null,
   "id": "408828cf",
   "metadata": {},
   "outputs": [],
   "source": [
    "#b\n",
    "#Price: the effect of a price increase of 1 dollar is a decrease of 54.4588492 units in sales \n",
    "#Urban: the mean of the unit sales in urban location are 21.9161508 units less than in rural location\n",
    "#US: the mean of the unit sales in a US store are 1200.5726978 units more than in a non US store "
   ]
  },
  {
   "cell_type": "code",
   "execution_count": null,
   "id": "c22be7e1",
   "metadata": {},
   "outputs": [],
   "source": [
    "#c\n",
    "#Sales = 13.0434689 − 0.0544588×Price − 0.0219162×Urban + 1.2005727×US + E"
   ]
  },
  {
   "cell_type": "code",
   "execution_count": null,
   "id": "e26935cb",
   "metadata": {},
   "outputs": [],
   "source": [
    "#d\n",
    "#reject the null hypothesis for the Price and US variables."
   ]
  },
  {
   "cell_type": "code",
   "execution_count": null,
   "id": "1af73b61",
   "metadata": {},
   "outputs": [],
   "source": [
    "# e\n",
    "fit_1 <- lm(Sales ~ Price + US, data = Carseats)\n",
    "summary(fit_1)"
   ]
  },
  {
   "cell_type": "code",
   "execution_count": null,
   "id": "b8e21478",
   "metadata": {},
   "outputs": [],
   "source": [
    "# g\n",
    "confint(fit_1)"
   ]
  },
  {
   "cell_type": "code",
   "execution_count": null,
   "id": "98616241",
   "metadata": {},
   "outputs": [],
   "source": [
    "#Chapter 3 Exercise 15\n",
    "\n",
    "#a\n",
    "library(MASS)\n",
    "attach(Boston)\n",
    "fit.zn <- lm(crim ~ zn)\n",
    "summary(fit.zn)"
   ]
  },
  {
   "cell_type": "code",
   "execution_count": null,
   "id": "6056913a",
   "metadata": {},
   "outputs": [],
   "source": [
    "fit.indus <- lm(crim ~ indus)\n",
    "summary(fit.indus)"
   ]
  },
  {
   "cell_type": "code",
   "execution_count": null,
   "id": "ce40b764",
   "metadata": {},
   "outputs": [],
   "source": [
    "chas <- as.factor(chas)\n",
    "fit.chas <- lm(crim ~ chas)\n",
    "summary(fit.chas)"
   ]
  },
  {
   "cell_type": "code",
   "execution_count": null,
   "id": "99522308",
   "metadata": {},
   "outputs": [],
   "source": [
    "fit.nox <- lm(crim ~ nox)\n",
    "summary(fit.nox)"
   ]
  },
  {
   "cell_type": "code",
   "execution_count": null,
   "id": "f68412d1",
   "metadata": {},
   "outputs": [],
   "source": [
    "fit.rm <- lm(crim ~ rm)\n",
    "summary(fit.rm)"
   ]
  },
  {
   "cell_type": "code",
   "execution_count": null,
   "id": "2f05af9a",
   "metadata": {},
   "outputs": [],
   "source": [
    "fit.age <- lm(crim ~ age)\n",
    "summary(fit.age)"
   ]
  },
  {
   "cell_type": "code",
   "execution_count": null,
   "id": "c9112d1e",
   "metadata": {},
   "outputs": [],
   "source": [
    "fit.dis <- lm(crim ~ dis)\n",
    "summary(fit.dis)"
   ]
  },
  {
   "cell_type": "code",
   "execution_count": null,
   "id": "9cf2cc2a",
   "metadata": {},
   "outputs": [],
   "source": [
    "fit.rad <- lm(crim ~ rad)\n",
    "summary(fit.rad)"
   ]
  },
  {
   "cell_type": "code",
   "execution_count": null,
   "id": "4b5cfc14",
   "metadata": {},
   "outputs": [],
   "source": [
    "fit.tax <- lm(crim ~ tax)\n",
    "summary(fit.tax)"
   ]
  },
  {
   "cell_type": "code",
   "execution_count": null,
   "id": "18af9b0f",
   "metadata": {},
   "outputs": [],
   "source": [
    "fit.ptratio <- lm(crim ~ ptratio)\n",
    "summary(fit.ptratio)"
   ]
  },
  {
   "cell_type": "code",
   "execution_count": null,
   "id": "b72a310f",
   "metadata": {},
   "outputs": [],
   "source": [
    "fit.black <- lm(crim ~ black)\n",
    "summary(fit.black)"
   ]
  },
  {
   "cell_type": "code",
   "execution_count": null,
   "id": "10832e54",
   "metadata": {},
   "outputs": [],
   "source": [
    "fit.lstat <- lm(crim ~ lstat)\n",
    "summary(fit.lstat)"
   ]
  },
  {
   "cell_type": "code",
   "execution_count": null,
   "id": "d8b1a92c",
   "metadata": {},
   "outputs": [],
   "source": [
    "fit.medv <- lm(crim ~ medv)\n",
    "summary(fit.medv)"
   ]
  },
  {
   "cell_type": "code",
   "execution_count": null,
   "id": "1806eb62",
   "metadata": {},
   "outputs": [],
   "source": [
    "#b\n",
    "fit.all <- lm(crim ~ ., data = Boston)\n",
    "summary(fit.all)"
   ]
  }
 ],
 "metadata": {
  "kernelspec": {
   "display_name": "Python 3",
   "language": "python",
   "name": "python3"
  },
  "language_info": {
   "codemirror_mode": {
    "name": "ipython",
    "version": 3
   },
   "file_extension": ".py",
   "mimetype": "text/x-python",
   "name": "python",
   "nbconvert_exporter": "python",
   "pygments_lexer": "ipython3",
   "version": "3.9.4"
  }
 },
 "nbformat": 4,
 "nbformat_minor": 5
}
